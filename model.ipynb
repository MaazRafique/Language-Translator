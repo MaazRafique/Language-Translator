{
 "cells": [
  {
   "cell_type": "markdown",
   "metadata": {},
   "source": [
    "Setup"
   ]
  },
  {
   "cell_type": "code",
   "execution_count": 1,
   "metadata": {},
   "outputs": [],
   "source": [
    "import random\n",
    "import string\n",
    "import re\n",
    "import numpy as np\n",
    "import tensorflow as tf\n",
    "from tensorflow import keras\n",
    "from tensorflow.keras import layers\n",
    "from tensorflow.keras.layers import TextVectorization\n",
    "import csv\n",
    "import pandas as pd\n",
    "import matplotlib.pyplot as plt\n",
    "from keras.preprocessing.text import Tokenizer\n",
    "from keras.models import load_model\n",
    "from keras_visualizer import visualizer\n",
    "import visualkeras\n",
    "from keras.utils.vis_utils import plot_model\n",
    "from PIL import ImageFont"
   ]
  },
  {
   "cell_type": "markdown",
   "metadata": {},
   "source": [
    "Parsing the data"
   ]
  },
  {
   "cell_type": "code",
   "execution_count": 2,
   "metadata": {},
   "outputs": [],
   "source": [
    "text_pairs =[]\n",
    "csvfile = open('dataset/r-urdu-to-eng-final.csv',newline='')\n",
    "reader = csv.DictReader(csvfile)\n",
    "for row in reader:\n",
    "    text_pairs.append((row['Roman Urdu'],\"[start] \" + row['English'] + \" [end]\"))\n"
   ]
  },
  {
   "cell_type": "code",
   "execution_count": 3,
   "metadata": {},
   "outputs": [
    {
     "name": "stdout",
     "output_type": "stream",
     "text": [
      "('aam unka sabse pasandida phal hai lekin nashpati mera sabse pasandida phal hai', '[start] the mango is their most loved fruit but the pear is my most loved [end]')\n",
      "('usny ahsan pr jadu krdiya ha', '[start] he has put a spell on ahsan [end]')\n",
      "('maa pyari maa very nice', '[start] mother beautiful mother very nice [end]')\n",
      "('na jao', '[start] dont go [end]')\n",
      "('beshak kyun ni meri piyari sis', '[start] why not my lovely sister [end]')\n"
     ]
    }
   ],
   "source": [
    "for _ in range(5):\n",
    "    print(random.choice(text_pairs))"
   ]
  },
  {
   "cell_type": "code",
   "execution_count": 4,
   "metadata": {},
   "outputs": [
    {
     "data": {
      "text/plain": [
       "'1 baj kar0 minute horahay hain'"
      ]
     },
     "execution_count": 4,
     "metadata": {},
     "output_type": "execute_result"
    }
   ],
   "source": [
    "text_pairs[0][0]"
   ]
  },
  {
   "cell_type": "code",
   "execution_count": 5,
   "metadata": {},
   "outputs": [
    {
     "data": {
      "image/png": "[encoded data removed]",
      "text/plain": [
       "<Figure size 432x288 with 2 Axes>"
      ]
     },
     "metadata": {
      "needs_background": "light"
     },
     "output_type": "display_data"
    }
   ],
   "source": [
    "urdu_l = []\n",
    "eng_l = []\n",
    "\n",
    "# populate the lists with sentence lengths\n",
    "for i in range(len(text_pairs)):\n",
    "    urdu_l.append(len(text_pairs[i][0]))\n",
    "    eng_l.append(len(text_pairs[i][1]))\n",
    "\n",
    "length_df = pd.DataFrame({'urdu':urdu_l, 'eng':eng_l})\n",
    "\n",
    "length_df.hist(bins = 30)\n",
    "plt.show()"
   ]
  },
  {
   "cell_type": "code",
   "execution_count": 6,
   "metadata": {},
   "outputs": [
    {
     "name": "stdout",
     "output_type": "stream",
     "text": [
      "462\n"
     ]
    },
    {
     "data": {
      "text/plain": [
       "334"
      ]
     },
     "execution_count": 6,
     "metadata": {},
     "output_type": "execute_result"
    }
   ],
   "source": [
    "print(max(urdu_l))\n",
    "max(eng_l)"
   ]
  },
  {
   "cell_type": "markdown",
   "metadata": {},
   "source": [
    "Now, let's split the sentence pairs into a training set, a validation set, and a test set."
   ]
  },
  {
   "cell_type": "code",
   "execution_count": 7,
   "metadata": {},
   "outputs": [
    {
     "name": "stdout",
     "output_type": "stream",
     "text": [
      "6519 total pairs\n",
      "5217 training pairs\n",
      "651 validation pairs\n",
      "651 test pairs\n"
     ]
    }
   ],
   "source": [
    "random.shuffle(text_pairs)\n",
    "num_val_samples = int(0.1 * len(text_pairs))\n",
    "num_train_samples = len(text_pairs) - 2 * num_val_samples\n",
    "train_pairs = text_pairs[:num_train_samples]\n",
    "val_pairs = text_pairs[num_train_samples : num_train_samples + num_val_samples]\n",
    "test_pairs = text_pairs[num_train_samples + num_val_samples :]\n",
    "\n",
    "print(f\"{len(text_pairs)} total pairs\")\n",
    "print(f\"{len(train_pairs)} training pairs\")\n",
    "print(f\"{len(val_pairs)} validation pairs\")\n",
    "print(f\"{len(test_pairs)} test pairs\")"
   ]
  },
  {
   "cell_type": "code",
   "execution_count": 8,
   "metadata": {},
   "outputs": [],
   "source": [
    "# function to build a tokenizer\n",
    "def tokenization(lines):\n",
    "      tokenizer = Tokenizer()\n",
    "      tokenizer.fit_on_texts(lines)\n",
    "      return tokenizer"
   ]
  },
  {
   "cell_type": "code",
   "execution_count": 9,
   "metadata": {},
   "outputs": [
    {
     "name": "stdout",
     "output_type": "stream",
     "text": [
      "Urdu Vocabulary Size: 7594\n"
     ]
    }
   ],
   "source": [
    "# prepare Urdu tokenizer\n",
    "urdu_tokenizer = tokenization([i[0] for i in text_pairs])\n",
    "urdu_vocab_size = len(urdu_tokenizer.word_index)+1\n",
    "\n",
    "print('Urdu Vocabulary Size: %d' % urdu_vocab_size)"
   ]
  },
  {
   "cell_type": "code",
   "execution_count": 10,
   "metadata": {},
   "outputs": [
    {
     "name": "stdout",
     "output_type": "stream",
     "text": [
      "English Vocabulary Size: 4141\n"
     ]
    }
   ],
   "source": [
    "# prepare English tokenizer\n",
    "eng_tokenizer = tokenization([i[1] for i in text_pairs])\n",
    "eng_vocab_size = len(eng_tokenizer.word_index)+1\n",
    "\n",
    "print('English Vocabulary Size: %d' % eng_vocab_size)"
   ]
  },
  {
   "cell_type": "markdown",
   "metadata": {},
   "source": [
    "Vectorizing the text data"
   ]
  },
  {
   "cell_type": "code",
   "execution_count": 11,
   "metadata": {},
   "outputs": [],
   "source": [
    "strip_chars = string.punctuation + \"¿\"\n",
    "strip_chars = strip_chars.replace(\"[\", \"\")\n",
    "strip_chars = strip_chars.replace(\"]\", \"\")\n",
    "strip_chars = strip_chars.replace(\",\", \"\")\n",
    "strip_chars = strip_chars.replace(\".\", \"\")\n",
    "\n",
    "vocab_size = 15000\n",
    "sequence_length = 20\n",
    "batch_size = 8\n",
    "\n",
    "\n",
    "def custom_standardization(input_string):\n",
    "    lowercase = tf.strings.lower(input_string)\n",
    "    return tf.strings.regex_replace(lowercase, \"[%s]\" % re.escape(strip_chars), \"\")\n",
    "\n",
    "\n",
    "urd_vectorization = TextVectorization(max_tokens=eng_vocab_size, output_mode=\"int\", \n",
    "                    output_sequence_length=max(urdu_l),)\n",
    "\n",
    "eng_vectorization = TextVectorization(max_tokens=eng_vocab_size, output_mode=\"int\",\n",
    "                     output_sequence_length=max(urdu_l)+1,standardize=custom_standardization,)\n",
    "\n",
    "train_urd_texts = [pair[0] for pair in train_pairs]\n",
    "train_eng_texts = [pair[1] for pair in train_pairs]\n",
    "urd_vectorization.adapt(train_urd_texts)\n",
    "eng_vectorization.adapt(train_eng_texts)"
   ]
  },
  {
   "cell_type": "code",
   "execution_count": 12,
   "metadata": {},
   "outputs": [
    {
     "name": "stdout",
     "output_type": "stream",
     "text": [
      "[('dafa hojaona', '[start] get lost [end]'), ('seehday hath par rkho', '[start] keep to the leftright [end]'), ('france november me shandar hota he magar yay kabhi kabhi garam hota he september me', '[start] france is wonderful during november but it is sometimes hot in september [end]'), ('bohat jaldi tarseel hua aur bohat awla mayar hai', '[start] good quality and it was delivered on time [end]'), ('bura ny h iss keemat may', '[start] not bad at this price [end]')]\n",
      "=========================\n",
      "\n",
      "['dafa hojaona', 'seehday hath par rkho', 'france november me shandar hota he magar yay kabhi kabhi garam hota he september me', 'bohat jaldi tarseel hua aur bohat awla mayar hai', 'bura ny h iss keemat may']\n",
      "=========================\n",
      "\n"
     ]
    },
    {
     "data": {
      "text/plain": [
       "['[start] get lost [end]',\n",
       " '[start] keep to the leftright [end]',\n",
       " '[start] france is wonderful during november but it is sometimes hot in september [end]',\n",
       " '[start] good quality and it was delivered on time [end]',\n",
       " '[start] not bad at this price [end]']"
      ]
     },
     "execution_count": 12,
     "metadata": {},
     "output_type": "execute_result"
    }
   ],
   "source": [
    "print(train_pairs[:5])\n",
    "print('=========================\\n')\n",
    "print(train_urd_texts[:5])\n",
    "print('=========================\\n')\n",
    "train_eng_texts[:5]"
   ]
  },
  {
   "cell_type": "code",
   "execution_count": 13,
   "metadata": {},
   "outputs": [],
   "source": [
    "def format_dataset(urd, eng):\n",
    "    urd = urd_vectorization(urd)\n",
    "    eng = eng_vectorization(eng)\n",
    "    return ({\"encoder_inputs\": urd, \"decoder_inputs\": eng[:, :-1],}, eng[:, 1:])\n",
    "\n",
    "\n",
    "def make_dataset(pairs):\n",
    "    urd_texts, eng_texts = zip(*pairs)\n",
    "    urd_texts = list(urd_texts)\n",
    "    eng_texts = list(eng_texts)\n",
    "    dataset = tf.data.Dataset.from_tensor_slices((urd_texts, eng_texts))\n",
    "    dataset = dataset.batch(batch_size)\n",
    "    dataset = dataset.map(format_dataset)\n",
    "    return dataset.shuffle(2048).prefetch(16).cache()\n",
    "\n",
    "\n",
    "train_ds = make_dataset(train_pairs)\n",
    "val_ds = make_dataset(val_pairs)"
   ]
  },
  {
   "cell_type": "code",
   "execution_count": 14,
   "metadata": {},
   "outputs": [
    {
     "name": "stdout",
     "output_type": "stream",
     "text": [
      "inputs[\"encoder_inputs\"].shape: (8, 462)\n",
      "inputs[\"decoder_inputs\"].shape: (8, 462)\n",
      "targets.shape: (8, 462)\n"
     ]
    }
   ],
   "source": [
    "for inputs, targets in train_ds.take(1):\n",
    "    print(f'inputs[\"encoder_inputs\"].shape: {inputs[\"encoder_inputs\"].shape}')\n",
    "    print(f'inputs[\"decoder_inputs\"].shape: {inputs[\"decoder_inputs\"].shape}')\n",
    "    print(f\"targets.shape: {targets.shape}\")"
   ]
  },
  {
   "cell_type": "code",
   "execution_count": 15,
   "metadata": {},
   "outputs": [
    {
     "data": {
      "text/plain": [
       "<tf.Tensor: shape=(5, 462), dtype=int64, numpy=\n",
       "array([[ 346,  647, 3728, ...,    0,    0,    0],\n",
       "       [ 382, 1597,    0, ...,    0,    0,    0],\n",
       "       [1490,    1,    2, ...,    0,    0,    0],\n",
       "       [  70,   16,    1, ...,    0,    0,    0],\n",
       "       [ 713,   53,  916, ...,    0,    0,    0]])>"
      ]
     },
     "execution_count": 15,
     "metadata": {},
     "output_type": "execute_result"
    }
   ],
   "source": [
    "inputs[\"encoder_inputs\"][:5]\n"
   ]
  },
  {
   "cell_type": "code",
   "execution_count": 16,
   "metadata": {},
   "outputs": [
    {
     "data": {
      "text/plain": [
       "<tf.Tensor: shape=(5, 462), dtype=int64, numpy=\n",
       "array([[  2, 543, 274, ...,   0,   0,   0],\n",
       "       [  2,  78, 184, ...,   0,   0,   0],\n",
       "       [  2,   9, 404, ...,   0,   0,   0],\n",
       "       [  2, 110, 145, ...,   0,   0,   0],\n",
       "       [  2,  35,   4, ...,   0,   0,   0]])>"
      ]
     },
     "execution_count": 16,
     "metadata": {},
     "output_type": "execute_result"
    }
   ],
   "source": [
    "inputs[\"decoder_inputs\"][:5]"
   ]
  },
  {
   "cell_type": "code",
   "execution_count": 17,
   "metadata": {},
   "outputs": [
    {
     "data": {
      "text/plain": [
       "<tf.Tensor: shape=(5, 462), dtype=int64, numpy=\n",
       "array([[543, 274, 689, ...,   0,   0,   0],\n",
       "       [ 78, 184,   3, ...,   0,   0,   0],\n",
       "       [  9, 404,  15, ...,   0,   0,   0],\n",
       "       [110, 145,  60, ...,   0,   0,   0],\n",
       "       [ 35,   4, 182, ...,   0,   0,   0]])>"
      ]
     },
     "execution_count": 17,
     "metadata": {},
     "output_type": "execute_result"
    }
   ],
   "source": [
    "targets[:5]"
   ]
  },
  {
   "cell_type": "code",
   "execution_count": 18,
   "metadata": {},
   "outputs": [],
   "source": [
    "class TransformerEncoder(layers.Layer):\n",
    "    def __init__(self, embed_dim, dense_dim, num_heads, **kwargs):\n",
    "        super(TransformerEncoder, self).__init__(**kwargs)\n",
    "        self.embed_dim = embed_dim\n",
    "        self.dense_dim = dense_dim\n",
    "        self.num_heads = num_heads\n",
    "        self.attention = layers.MultiHeadAttention(\n",
    "            num_heads=num_heads, key_dim=embed_dim\n",
    "        )\n",
    "        self.dense_proj = keras.Sequential(\n",
    "            [layers.Dense(dense_dim, activation=\"relu\"), layers.Dense(embed_dim),]\n",
    "        )\n",
    "        self.layernorm_1 = layers.LayerNormalization()\n",
    "        self.layernorm_2 = layers.LayerNormalization()\n",
    "        self.supports_masking = True\n",
    "\n",
    "    def call(self, inputs, mask=None):\n",
    "        if mask is not None:\n",
    "            padding_mask = tf.cast(mask[:, tf.newaxis, tf.newaxis, :], dtype=\"int32\")\n",
    "        attention_output = self.attention(\n",
    "            query=inputs, value=inputs, key=inputs, attention_mask=padding_mask\n",
    "        )\n",
    "        proj_input = self.layernorm_1(inputs + attention_output)\n",
    "        proj_output = self.dense_proj(proj_input)\n",
    "        return self.layernorm_2(proj_input + proj_output)\n",
    "\n",
    "\n",
    "class PositionalEmbedding(layers.Layer):\n",
    "    def __init__(self, sequence_length, vocab_size, embed_dim, **kwargs):\n",
    "        super(PositionalEmbedding, self).__init__(**kwargs)\n",
    "        self.token_embeddings = layers.Embedding(\n",
    "            input_dim=vocab_size, output_dim=embed_dim\n",
    "        )\n",
    "        self.position_embeddings = layers.Embedding(\n",
    "            input_dim=sequence_length, output_dim=embed_dim\n",
    "        )\n",
    "        self.sequence_length = sequence_length\n",
    "        self.vocab_size = vocab_size\n",
    "        self.embed_dim = embed_dim\n",
    "\n",
    "    def call(self, inputs):\n",
    "        length = tf.shape(inputs)[-1]\n",
    "        positions = tf.range(start=0, limit=length, delta=1)\n",
    "        embedded_tokens = self.token_embeddings(inputs)\n",
    "        embedded_positions = self.position_embeddings(positions)\n",
    "        return embedded_tokens + embedded_positions\n",
    "\n",
    "    def compute_mask(self, inputs, mask=None):\n",
    "        return tf.math.not_equal(inputs, 0)\n",
    "\n",
    "\n",
    "class TransformerDecoder(layers.Layer):\n",
    "    def __init__(self, embed_dim, latent_dim, num_heads, **kwargs):\n",
    "        super(TransformerDecoder, self).__init__(**kwargs)\n",
    "        self.embed_dim = embed_dim\n",
    "        self.latent_dim = latent_dim\n",
    "        self.num_heads = num_heads\n",
    "        self.attention_1 = layers.MultiHeadAttention(\n",
    "            num_heads=num_heads, key_dim=embed_dim\n",
    "        )\n",
    "        self.attention_2 = layers.MultiHeadAttention(\n",
    "            num_heads=num_heads, key_dim=embed_dim\n",
    "        )\n",
    "        self.dense_proj = keras.Sequential(\n",
    "            [layers.Dense(latent_dim, activation=\"relu\"), layers.Dense(embed_dim),]\n",
    "        )\n",
    "        self.layernorm_1 = layers.LayerNormalization()\n",
    "        self.layernorm_2 = layers.LayerNormalization()\n",
    "        self.layernorm_3 = layers.LayerNormalization()\n",
    "        self.supports_masking = True\n",
    "\n",
    "    def call(self, inputs, encoder_outputs, mask=None):\n",
    "        causal_mask = self.get_causal_attention_mask(inputs)\n",
    "        if mask is not None:\n",
    "            padding_mask = tf.cast(mask[:, tf.newaxis, :], dtype=\"int32\")\n",
    "            padding_mask = tf.minimum(padding_mask, causal_mask)\n",
    "\n",
    "        attention_output_1 = self.attention_1(\n",
    "            query=inputs, value=inputs, key=inputs, attention_mask=causal_mask\n",
    "        )\n",
    "        out_1 = self.layernorm_1(inputs + attention_output_1)\n",
    "\n",
    "        attention_output_2 = self.attention_2(\n",
    "            query=out_1,\n",
    "            value=encoder_outputs,\n",
    "            key=encoder_outputs,\n",
    "            attention_mask=padding_mask,\n",
    "        )\n",
    "        out_2 = self.layernorm_2(out_1 + attention_output_2)\n",
    "\n",
    "        proj_output = self.dense_proj(out_2)\n",
    "        return self.layernorm_3(out_2 + proj_output)\n",
    "\n",
    "    def get_causal_attention_mask(self, inputs):\n",
    "        input_shape = tf.shape(inputs)\n",
    "        batch_size, sequence_length = input_shape[0], input_shape[1]\n",
    "        i = tf.range(sequence_length)[:, tf.newaxis]\n",
    "        j = tf.range(sequence_length)\n",
    "        mask = tf.cast(i >= j, dtype=\"int32\")\n",
    "        mask = tf.reshape(mask, (1, input_shape[1], input_shape[1]))\n",
    "        mult = tf.concat(\n",
    "            [tf.expand_dims(batch_size, -1), tf.constant([1, 1], dtype=tf.int32)],\n",
    "            axis=0,\n",
    "        )\n",
    "        return tf.tile(mask, mult)"
   ]
  },
  {
   "cell_type": "code",
   "execution_count": 19,
   "metadata": {},
   "outputs": [],
   "source": [
    "# embed_dim = 256\n",
    "# latent_dim = 2048\n",
    "# num_heads = 8\n",
    "\n",
    "# encoder_inputs = keras.Input(shape=(None,), dtype=\"int64\", name=\"encoder_inputs\")\n",
    "# x = PositionalEmbedding(sequence_length, vocab_size, embed_dim)(encoder_inputs)\n",
    "# encoder_outputs = TransformerEncoder(embed_dim, latent_dim, num_heads)(x)\n",
    "# encoder = keras.Model(encoder_inputs, encoder_outputs)\n",
    "\n",
    "# decoder_inputs = keras.Input(shape=(None,), dtype=\"int64\", name=\"decoder_inputs\")\n",
    "# encoded_seq_inputs = keras.Input(shape=(None, embed_dim), name=\"decoder_state_inputs\")\n",
    "# x = PositionalEmbedding(sequence_length, vocab_size, embed_dim)(decoder_inputs)\n",
    "# x = TransformerDecoder(embed_dim, latent_dim, num_heads)(x, encoded_seq_inputs)\n",
    "# x = layers.Dropout(0.5)(x)\n",
    "# decoder_outputs = layers.Dense(vocab_size, activation=\"softmax\")(x)\n",
    "# decoder = keras.Model([decoder_inputs, encoded_seq_inputs], decoder_outputs)\n",
    "\n",
    "# decoder_outputs = decoder([decoder_inputs, encoder_outputs])\n",
    "# transformer = keras.Model(\n",
    "#     [encoder_inputs, decoder_inputs], decoder_outputs, name=\"transformer\"\n",
    "# )"
   ]
  },
  {
   "cell_type": "code",
   "execution_count": 20,
   "metadata": {},
   "outputs": [],
   "source": [
    "embed_dim = 256\n",
    "latent_dim = 2048\n",
    "num_heads = 8\n",
    "\n",
    "encoder_inputs = keras.Input(shape=(None,), dtype=\"int64\", name=\"encoder_inputs\")\n",
    "x = PositionalEmbedding(max(urdu_l), urdu_vocab_size, embed_dim)(encoder_inputs)\n",
    "encoder_outputs = TransformerEncoder(embed_dim, latent_dim, num_heads)(x)\n",
    "encoder = keras.Model(encoder_inputs, encoder_outputs)\n",
    "\n",
    "decoder_inputs = keras.Input(shape=(None,), dtype=\"int64\", name=\"decoder_inputs\")\n",
    "encoded_seq_inputs = keras.Input(shape=(None, embed_dim), name=\"decoder_state_inputs\")\n",
    "x = PositionalEmbedding(max(eng_l), eng_vocab_size, embed_dim)(decoder_inputs)\n",
    "x = TransformerDecoder(embed_dim, latent_dim, num_heads)(x, encoded_seq_inputs)\n",
    "x = layers.Dropout(0.5)(x)\n",
    "decoder_outputs = layers.Dense(eng_vocab_size, activation=\"softmax\")(x)\n",
    "decoder = keras.Model([decoder_inputs, encoded_seq_inputs], decoder_outputs)\n",
    "\n",
    "decoder_outputs = decoder([decoder_inputs, encoder_outputs])\n",
    "transformer = keras.Model(\n",
    "    [encoder_inputs, decoder_inputs], decoder_outputs, name=\"transformer\"\n",
    ")"
   ]
  },
  {
   "cell_type": "markdown",
   "metadata": {},
   "source": [
    "Training our model"
   ]
  },
  {
   "cell_type": "code",
   "execution_count": 21,
   "metadata": {},
   "outputs": [
    {
     "name": "stdout",
     "output_type": "stream",
     "text": [
      "Model: \"transformer\"\n",
      "__________________________________________________________________________________________________\n",
      " Layer (type)                   Output Shape         Param #     Connected to                     \n",
      "==================================================================================================\n",
      " encoder_inputs (InputLayer)    [(None, None)]       0           []                               \n",
      "                                                                                                  \n",
      " positional_embedding (Position  (None, None, 256)   2062336     ['encoder_inputs[0][0]']         \n",
      " alEmbedding)                                                                                     \n",
      "                                                                                                  \n",
      " decoder_inputs (InputLayer)    [(None, None)]       0           []                               \n",
      "                                                                                                  \n",
      " transformer_encoder (Transform  (None, None, 256)   3155456     ['positional_embedding[0][0]']   \n",
      " erEncoder)                                                                                       \n",
      "                                                                                                  \n",
      " model_1 (Functional)           (None, None, 4141)   7469357     ['decoder_inputs[0][0]',         \n",
      "                                                                  'transformer_encoder[0][0]']    \n",
      "                                                                                                  \n",
      "==================================================================================================\n",
      "Total params: 12,687,149\n",
      "Trainable params: 12,687,149\n",
      "Non-trainable params: 0\n",
      "__________________________________________________________________________________________________\n",
      "Epoch 1/50\n",
      "653/653 [==============================] - 108s 161ms/step - loss: 0.0905 - accuracy: 0.3177 - val_loss: 0.0829 - val_accuracy: 0.3681\n",
      "Epoch 2/50\n",
      "653/653 [==============================] - 107s 164ms/step - loss: 0.0797 - accuracy: 0.3763 - val_loss: 0.0796 - val_accuracy: 0.3784\n",
      "Epoch 3/50\n",
      "653/653 [==============================] - 107s 163ms/step - loss: 0.0763 - accuracy: 0.3941 - val_loss: 0.0789 - val_accuracy: 0.3893\n",
      "Epoch 4/50\n",
      "653/653 [==============================] - 107s 163ms/step - loss: 0.0737 - accuracy: 0.4100 - val_loss: 0.0768 - val_accuracy: 0.4102\n",
      "Epoch 5/50\n",
      "653/653 [==============================] - 107s 164ms/step - loss: 0.0713 - accuracy: 0.4280 - val_loss: 0.0753 - val_accuracy: 0.4225\n",
      "Epoch 6/50\n",
      "653/653 [==============================] - 107s 165ms/step - loss: 0.0690 - accuracy: 0.4459 - val_loss: 0.0750 - val_accuracy: 0.4260\n",
      "Epoch 7/50\n",
      "653/653 [==============================] - 108s 165ms/step - loss: 0.0669 - accuracy: 0.4573 - val_loss: 0.0752 - val_accuracy: 0.4313\n",
      "Epoch 8/50\n",
      "653/653 [==============================] - 108s 165ms/step - loss: 0.0650 - accuracy: 0.4732 - val_loss: 0.0742 - val_accuracy: 0.4458\n",
      "Epoch 9/50\n",
      "653/653 [==============================] - 108s 165ms/step - loss: 0.0635 - accuracy: 0.4862 - val_loss: 0.0741 - val_accuracy: 0.4512\n",
      "Epoch 10/50\n",
      "653/653 [==============================] - 108s 166ms/step - loss: 0.0626 - accuracy: 0.4987 - val_loss: 0.0748 - val_accuracy: 0.4484\n",
      "Epoch 11/50\n",
      "653/653 [==============================] - 109s 166ms/step - loss: 0.0617 - accuracy: 0.5112 - val_loss: 0.0752 - val_accuracy: 0.4483\n",
      "Epoch 12/50\n",
      "653/653 [==============================] - 107s 164ms/step - loss: 0.0611 - accuracy: 0.5243 - val_loss: 0.0761 - val_accuracy: 0.4494\n",
      "Epoch 13/50\n",
      "653/653 [==============================] - 108s 166ms/step - loss: 0.0605 - accuracy: 0.5329 - val_loss: 0.0761 - val_accuracy: 0.4528\n",
      "Epoch 14/50\n",
      "653/653 [==============================] - 108s 166ms/step - loss: 0.0599 - accuracy: 0.5418 - val_loss: 0.0766 - val_accuracy: 0.4554\n",
      "Epoch 15/50\n",
      "653/653 [==============================] - 112s 172ms/step - loss: 0.0591 - accuracy: 0.5544 - val_loss: 0.0769 - val_accuracy: 0.4554\n",
      "Epoch 16/50\n",
      "653/653 [==============================] - 106s 163ms/step - loss: 0.0585 - accuracy: 0.5630 - val_loss: 0.0770 - val_accuracy: 0.4538\n",
      "Epoch 17/50\n",
      "653/653 [==============================] - 105s 161ms/step - loss: 0.0578 - accuracy: 0.5751 - val_loss: 0.0778 - val_accuracy: 0.4569\n",
      "Epoch 18/50\n",
      "653/653 [==============================] - 103s 158ms/step - loss: 0.0572 - accuracy: 0.5840 - val_loss: 0.0782 - val_accuracy: 0.4589\n",
      "Epoch 19/50\n",
      "653/653 [==============================] - 158s 242ms/step - loss: 0.0566 - accuracy: 0.5928 - val_loss: 0.0794 - val_accuracy: 0.4540\n",
      "Epoch 20/50\n",
      "653/653 [==============================] - 169s 259ms/step - loss: 0.0560 - accuracy: 0.6011 - val_loss: 0.0786 - val_accuracy: 0.4654\n",
      "Epoch 21/50\n",
      "653/653 [==============================] - 164s 252ms/step - loss: 0.0552 - accuracy: 0.6137 - val_loss: 0.0783 - val_accuracy: 0.4636\n",
      "Epoch 22/50\n",
      "653/653 [==============================] - 177s 271ms/step - loss: 0.0544 - accuracy: 0.6248 - val_loss: 0.0791 - val_accuracy: 0.4724\n",
      "Epoch 23/50\n",
      "653/653 [==============================] - 182s 279ms/step - loss: 0.0538 - accuracy: 0.6313 - val_loss: 0.0791 - val_accuracy: 0.4770\n",
      "Epoch 24/50\n",
      "653/653 [==============================] - 338s 518ms/step - loss: 0.0532 - accuracy: 0.6376 - val_loss: 0.0797 - val_accuracy: 0.4745\n",
      "Epoch 25/50\n",
      "653/653 [==============================] - 357s 547ms/step - loss: 0.0525 - accuracy: 0.6448 - val_loss: 0.0804 - val_accuracy: 0.4804\n",
      "Epoch 26/50\n",
      "653/653 [==============================] - 367s 562ms/step - loss: 0.0519 - accuracy: 0.6522 - val_loss: 0.0803 - val_accuracy: 0.4874\n",
      "Epoch 27/50\n",
      "653/653 [==============================] - 223s 341ms/step - loss: 0.0514 - accuracy: 0.6582 - val_loss: 0.0804 - val_accuracy: 0.4825\n",
      "Epoch 28/50\n",
      "653/653 [==============================] - 257s 391ms/step - loss: 0.0508 - accuracy: 0.6630 - val_loss: 0.0808 - val_accuracy: 0.4804\n",
      "Epoch 29/50\n",
      "653/653 [==============================] - 302s 462ms/step - loss: 0.0505 - accuracy: 0.6671 - val_loss: 0.0819 - val_accuracy: 0.4804\n",
      "Epoch 30/50\n",
      "653/653 [==============================] - 155s 238ms/step - loss: 0.0497 - accuracy: 0.6747 - val_loss: 0.0823 - val_accuracy: 0.4823\n",
      "Epoch 31/50\n",
      "653/653 [==============================] - 106s 163ms/step - loss: 0.0492 - accuracy: 0.6783 - val_loss: 0.0821 - val_accuracy: 0.4794\n",
      "Epoch 32/50\n",
      "653/653 [==============================] - 108s 165ms/step - loss: 0.0488 - accuracy: 0.6817 - val_loss: 0.0809 - val_accuracy: 0.4939\n",
      "Epoch 33/50\n",
      "653/653 [==============================] - 108s 165ms/step - loss: 0.0484 - accuracy: 0.6870 - val_loss: 0.0818 - val_accuracy: 0.4843\n",
      "Epoch 34/50\n",
      "653/653 [==============================] - 108s 165ms/step - loss: 0.0478 - accuracy: 0.6916 - val_loss: 0.0838 - val_accuracy: 0.4797\n",
      "Epoch 35/50\n",
      "653/653 [==============================] - 109s 167ms/step - loss: 0.0473 - accuracy: 0.6964 - val_loss: 0.0817 - val_accuracy: 0.4836\n",
      "Epoch 36/50\n",
      "653/653 [==============================] - 105s 161ms/step - loss: 0.0470 - accuracy: 0.6984 - val_loss: 0.0837 - val_accuracy: 0.4869\n",
      "Epoch 37/50\n",
      "653/653 [==============================] - 103s 158ms/step - loss: 0.0467 - accuracy: 0.7013 - val_loss: 0.0823 - val_accuracy: 0.4882\n",
      "Epoch 38/50\n",
      "653/653 [==============================] - 103s 158ms/step - loss: 0.0462 - accuracy: 0.7057 - val_loss: 0.0825 - val_accuracy: 0.4941\n",
      "Epoch 39/50\n",
      "653/653 [==============================] - 103s 158ms/step - loss: 0.0458 - accuracy: 0.7084 - val_loss: 0.0850 - val_accuracy: 0.4815\n",
      "Epoch 40/50\n",
      "653/653 [==============================] - 103s 158ms/step - loss: 0.0454 - accuracy: 0.7118 - val_loss: 0.0836 - val_accuracy: 0.4916\n",
      "Epoch 41/50\n",
      "653/653 [==============================] - 106s 162ms/step - loss: 0.0450 - accuracy: 0.7159 - val_loss: 0.0830 - val_accuracy: 0.4854\n",
      "Epoch 42/50\n",
      "653/653 [==============================] - 109s 166ms/step - loss: 0.0447 - accuracy: 0.7177 - val_loss: 0.0843 - val_accuracy: 0.4846\n",
      "Epoch 43/50\n",
      "653/653 [==============================] - 109s 167ms/step - loss: 0.0443 - accuracy: 0.7198 - val_loss: 0.0836 - val_accuracy: 0.4916\n",
      "Epoch 44/50\n",
      "653/653 [==============================] - 109s 167ms/step - loss: 0.0440 - accuracy: 0.7221 - val_loss: 0.0846 - val_accuracy: 0.4843\n",
      "Epoch 45/50\n",
      "653/653 [==============================] - 109s 167ms/step - loss: 0.0436 - accuracy: 0.7260 - val_loss: 0.0848 - val_accuracy: 0.4828\n",
      "Epoch 46/50\n",
      "653/653 [==============================] - 109s 167ms/step - loss: 0.0435 - accuracy: 0.7264 - val_loss: 0.0853 - val_accuracy: 0.4841\n",
      "Epoch 47/50\n",
      "653/653 [==============================] - 109s 167ms/step - loss: 0.0429 - accuracy: 0.7300 - val_loss: 0.0845 - val_accuracy: 0.4851\n",
      "Epoch 48/50\n",
      "653/653 [==============================] - 109s 168ms/step - loss: 0.0428 - accuracy: 0.7312 - val_loss: 0.0855 - val_accuracy: 0.4812\n",
      "Epoch 49/50\n",
      "653/653 [==============================] - 109s 167ms/step - loss: 0.0425 - accuracy: 0.7332 - val_loss: 0.0855 - val_accuracy: 0.4820\n",
      "Epoch 50/50\n",
      "653/653 [==============================] - 109s 167ms/step - loss: 0.0422 - accuracy: 0.7348 - val_loss: 0.0859 - val_accuracy: 0.4862\n"
     ]
    },
    {
     "data": {
      "text/plain": [
       "<keras.callbacks.History at 0x7f9ed1b37850>"
      ]
     },
     "execution_count": 21,
     "metadata": {},
     "output_type": "execute_result"
    }
   ],
   "source": [
    "epochs = 50  # This should be at least 30 for convergence\n",
    "\n",
    "transformer.summary()\n",
    "transformer.compile(\n",
    "    \"rmsprop\", loss=\"sparse_categorical_crossentropy\", metrics=[\"accuracy\"]\n",
    ")\n",
    "plot_model(transformer, to_file='model_plot_horizontal.png', show_shapes=True, show_layer_names=True,rankdir='LR',show_layer_activations=True)\n",
    "transformer.fit(train_ds, epochs=epochs, validation_data=val_ds)"
   ]
  },
  {
   "cell_type": "code",
   "execution_count": 22,
   "metadata": {},
   "outputs": [
    {
     "name": "stderr",
     "output_type": "stream",
     "text": [
      "WARNING:absl:Found untraced functions such as embedding_layer_call_fn, embedding_layer_call_and_return_conditional_losses, embedding_1_layer_call_fn, embedding_1_layer_call_and_return_conditional_losses, multi_head_attention_layer_call_fn while saving (showing 5 of 60). These functions will not be directly callable after loading.\n"
     ]
    },
    {
     "name": "stdout",
     "output_type": "stream",
     "text": [
      "INFO:tensorflow:Assets written to: models/transformers/assets\n"
     ]
    },
    {
     "name": "stderr",
     "output_type": "stream",
     "text": [
      "INFO:tensorflow:Assets written to: models/transformers/assets\n",
      "/home/maaz/anaconda3/lib/python3.7/site-packages/keras/engine/functional.py:1410: CustomMaskWarning: Custom mask layers require a config and must override get_config. When loading, the custom mask layer must be passed to the custom_objects argument.\n",
      "  layer_config = serialize_layer_fn(layer)\n",
      "/home/maaz/anaconda3/lib/python3.7/site-packages/keras/saving/saved_model/layer_serialization.py:112: CustomMaskWarning: Custom mask layers require a config and must override get_config. When loading, the custom mask layer must be passed to the custom_objects argument.\n",
      "  return generic_utils.serialize_keras_object(obj)\n"
     ]
    }
   ],
   "source": [
    "transformer.save(\"models/transformers\")"
   ]
  },
  {
   "cell_type": "code",
   "execution_count": 23,
   "metadata": {},
   "outputs": [
    {
     "data": {
      "image/png": "[encoded data removed]",
      "text/plain": [
       "<Figure size 432x288 with 1 Axes>"
      ]
     },
     "metadata": {
      "needs_background": "light"
     },
     "output_type": "display_data"
    }
   ],
   "source": [
    "plt.plot(transformer.history.history['loss'])\n",
    "plt.plot(transformer.history.history['val_loss'])\n",
    "plt.legend(['loss','val_loss','accuracy','val_accuracy'])\n",
    "plt.show()"
   ]
  },
  {
   "cell_type": "code",
   "execution_count": 24,
   "metadata": {},
   "outputs": [
    {
     "data": {
      "image/png": "[encoded data removed]",
      "text/plain": [
       "<Figure size 432x288 with 1 Axes>"
      ]
     },
     "metadata": {
      "needs_background": "light"
     },
     "output_type": "display_data"
    }
   ],
   "source": [
    "plt.plot(transformer.history.history['accuracy'])\n",
    "plt.plot(transformer.history.history['val_accuracy'])\n",
    "plt.legend(['accuracy','val_accuracy'])\n",
    "plt.show()"
   ]
  },
  {
   "cell_type": "markdown",
   "metadata": {},
   "source": [
    "Decoding test sentences"
   ]
  },
  {
   "cell_type": "code",
   "execution_count": 31,
   "metadata": {},
   "outputs": [],
   "source": [
    "eng_vocab = eng_vectorization.get_vocabulary()\n",
    "eng_index_lookup = dict(zip(range(len(eng_vocab)), eng_vocab))\n",
    "max_decoded_sentence_length = 467\n",
    "\n",
    "\n",
    "def decode_sequence(input_sentence):\n",
    "    tokenized_input_sentence = urd_vectorization([input_sentence])\n",
    "    decoded_sentence = \"[start]\"\n",
    "    for i in range(max_decoded_sentence_length):\n",
    "        tokenized_target_sentence = eng_vectorization([decoded_sentence])[:, :-1]\n",
    "        predictions = transformer([tokenized_input_sentence, tokenized_target_sentence])\n",
    "\n",
    "        sampled_token_index = np.argmax(predictions[0, i, :])\n",
    "        sampled_token = eng_index_lookup[sampled_token_index]\n",
    "        decoded_sentence += \" \" + sampled_token\n",
    "\n",
    "        if sampled_token == \"[end]\":\n",
    "            break\n",
    "    return decoded_sentence\n",
    "\n",
    "\n",
    "test_eng_texts = [pair[0] for pair in test_pairs]\n",
    "for _ in range(30):\n",
    "    input_sentence = random.choice(test_eng_texts)\n",
    "    translated = decode_sequence(input_sentence)"
   ]
  },
  {
   "cell_type": "code",
   "execution_count": 32,
   "metadata": {},
   "outputs": [
    {
     "name": "stdout",
     "output_type": "stream",
     "text": [
      "shehad ki mayar bohat awla hai qeemat bhi munasib hai\n",
      "==============================================\n",
      "[start] got this product on time its good [end]\n"
     ]
    }
   ],
   "source": [
    "print(input_sentence)\n",
    "print(\"==============================================\")\n",
    "print(translated)"
   ]
  },
  {
   "cell_type": "code",
   "execution_count": null,
   "metadata": {},
   "outputs": [],
   "source": []
  }
 ],
 "metadata": {
  "interpreter": {
   "hash": "f4ee7d0a59f1509ab2b5aa6b1d7618d56619a494f52ff3b8d740ac87801b20cb"
  },
  "kernelspec": {
   "display_name": "Python 3.7.6 ('base')",
   "language": "python",
   "name": "python3"
  },
  "language_info": {
   "codemirror_mode": {
    "name": "ipython",
    "version": 3
   },
   "file_extension": ".py",
   "mimetype": "text/x-python",
   "name": "python",
   "nbconvert_exporter": "python",
   "pygments_lexer": "ipython3",
   "version": "3.7.6"
  },
  "orig_nbformat": 4
 },
 "nbformat": 4,
 "nbformat_minor": 2
}
